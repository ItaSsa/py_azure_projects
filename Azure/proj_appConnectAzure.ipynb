{
 "cells": [
  {
   "cell_type": "markdown",
   "metadata": {},
   "source": [
    "This example you will use azure-storage-blob azure-identity.\n",
    "\n",
    "asyncio:\n",
    "A built-in Python library for writing asynchronous programs. It provides tools to manage event loops, create and execute coroutines, and handle asynchronous I/O operations, enabling efficient concurrent programming.\n",
    "\n",
    "Azure Storage Blob[aio]:\n",
    "An asynchronous extension of the Azure Storage Blob library for Python, designed for non-blocking operations using asyncio, enabling scalable and efficient interaction with Azure Blob Storage.\n",
    "\n",
    "\n",
    "Azure Identity:\n",
    "A Python library providing authentication and credential management for Azure SDKs, supporting methods like Azure Active Directory (AAD) authentication and managed identities for accessing Azure resources securely.\n",
    "\n"
   ]
  },
  {
   "cell_type": "code",
   "execution_count": 22,
   "metadata": {},
   "outputs": [
    {
     "name": "stdout",
     "output_type": "stream",
     "text": [
      "Requirement already satisfied: azure-identity in ./.venv/lib/python3.11/site-packages (1.19.0)\n",
      "Requirement already satisfied: asyncio in ./.venv/lib/python3.11/site-packages (3.4.3)\n",
      "Requirement already satisfied: azure-storage-blob[aio] in ./.venv/lib/python3.11/site-packages (12.24.0)\n",
      "Requirement already satisfied: azure-core>=1.30.0 in ./.venv/lib/python3.11/site-packages (from azure-storage-blob[aio]) (1.32.0)\n",
      "Requirement already satisfied: cryptography>=2.1.4 in ./.venv/lib/python3.11/site-packages (from azure-storage-blob[aio]) (43.0.3)\n",
      "Requirement already satisfied: typing-extensions>=4.6.0 in ./.venv/lib/python3.11/site-packages (from azure-storage-blob[aio]) (4.12.2)\n",
      "Requirement already satisfied: isodate>=0.6.1 in ./.venv/lib/python3.11/site-packages (from azure-storage-blob[aio]) (0.7.2)\n",
      "Requirement already satisfied: msal>=1.30.0 in ./.venv/lib/python3.11/site-packages (from azure-identity) (1.31.1)\n",
      "Requirement already satisfied: msal-extensions>=1.2.0 in ./.venv/lib/python3.11/site-packages (from azure-identity) (1.2.0)\n",
      "Requirement already satisfied: requests>=2.21.0 in ./.venv/lib/python3.11/site-packages (from azure-core>=1.30.0->azure-storage-blob[aio]) (2.32.3)\n",
      "Requirement already satisfied: six>=1.11.0 in ./.venv/lib/python3.11/site-packages (from azure-core>=1.30.0->azure-storage-blob[aio]) (1.16.0)\n",
      "Collecting aiohttp>=3.0 (from azure-core[aio]>=1.30.0; extra == \"aio\"->azure-storage-blob[aio])\n",
      "  Downloading aiohttp-3.11.7-cp311-cp311-manylinux_2_17_x86_64.manylinux2014_x86_64.whl.metadata (7.7 kB)\n",
      "Requirement already satisfied: cffi>=1.12 in ./.venv/lib/python3.11/site-packages (from cryptography>=2.1.4->azure-storage-blob[aio]) (1.17.1)\n",
      "Requirement already satisfied: PyJWT<3,>=1.0.0 in ./.venv/lib/python3.11/site-packages (from PyJWT[crypto]<3,>=1.0.0->msal>=1.30.0->azure-identity) (2.10.0)\n",
      "Requirement already satisfied: portalocker<3,>=1.4 in ./.venv/lib/python3.11/site-packages (from msal-extensions>=1.2.0->azure-identity) (2.10.1)\n",
      "Collecting aiohappyeyeballs>=2.3.0 (from aiohttp>=3.0->azure-core[aio]>=1.30.0; extra == \"aio\"->azure-storage-blob[aio])\n",
      "  Downloading aiohappyeyeballs-2.4.3-py3-none-any.whl.metadata (6.1 kB)\n",
      "Collecting aiosignal>=1.1.2 (from aiohttp>=3.0->azure-core[aio]>=1.30.0; extra == \"aio\"->azure-storage-blob[aio])\n",
      "  Downloading aiosignal-1.3.1-py3-none-any.whl.metadata (4.0 kB)\n",
      "Collecting attrs>=17.3.0 (from aiohttp>=3.0->azure-core[aio]>=1.30.0; extra == \"aio\"->azure-storage-blob[aio])\n",
      "  Downloading attrs-24.2.0-py3-none-any.whl.metadata (11 kB)\n",
      "Collecting frozenlist>=1.1.1 (from aiohttp>=3.0->azure-core[aio]>=1.30.0; extra == \"aio\"->azure-storage-blob[aio])\n",
      "  Downloading frozenlist-1.5.0-cp311-cp311-manylinux_2_5_x86_64.manylinux1_x86_64.manylinux_2_17_x86_64.manylinux2014_x86_64.whl.metadata (13 kB)\n",
      "Collecting multidict<7.0,>=4.5 (from aiohttp>=3.0->azure-core[aio]>=1.30.0; extra == \"aio\"->azure-storage-blob[aio])\n",
      "  Downloading multidict-6.1.0-cp311-cp311-manylinux_2_17_x86_64.manylinux2014_x86_64.whl.metadata (5.0 kB)\n",
      "Collecting propcache>=0.2.0 (from aiohttp>=3.0->azure-core[aio]>=1.30.0; extra == \"aio\"->azure-storage-blob[aio])\n",
      "  Downloading propcache-0.2.0-cp311-cp311-manylinux_2_17_x86_64.manylinux2014_x86_64.whl.metadata (7.7 kB)\n",
      "Collecting yarl<2.0,>=1.17.0 (from aiohttp>=3.0->azure-core[aio]>=1.30.0; extra == \"aio\"->azure-storage-blob[aio])\n",
      "  Downloading yarl-1.18.0-cp311-cp311-manylinux_2_17_x86_64.manylinux2014_x86_64.whl.metadata (67 kB)\n",
      "Requirement already satisfied: pycparser in ./.venv/lib/python3.11/site-packages (from cffi>=1.12->cryptography>=2.1.4->azure-storage-blob[aio]) (2.22)\n",
      "Requirement already satisfied: charset-normalizer<4,>=2 in ./.venv/lib/python3.11/site-packages (from requests>=2.21.0->azure-core>=1.30.0->azure-storage-blob[aio]) (3.4.0)\n",
      "Requirement already satisfied: idna<4,>=2.5 in ./.venv/lib/python3.11/site-packages (from requests>=2.21.0->azure-core>=1.30.0->azure-storage-blob[aio]) (3.10)\n",
      "Requirement already satisfied: urllib3<3,>=1.21.1 in ./.venv/lib/python3.11/site-packages (from requests>=2.21.0->azure-core>=1.30.0->azure-storage-blob[aio]) (2.2.3)\n",
      "Requirement already satisfied: certifi>=2017.4.17 in ./.venv/lib/python3.11/site-packages (from requests>=2.21.0->azure-core>=1.30.0->azure-storage-blob[aio]) (2024.8.30)\n",
      "Downloading aiohttp-3.11.7-cp311-cp311-manylinux_2_17_x86_64.manylinux2014_x86_64.whl (1.7 MB)\n",
      "\u001b[2K   \u001b[90m━━━━━━━━━━━━━━━━━━━━━━━━━━━━━━━━━━━━━━━━\u001b[0m \u001b[32m1.7/1.7 MB\u001b[0m \u001b[31m6.8 MB/s\u001b[0m eta \u001b[36m0:00:00\u001b[0ma \u001b[36m0:00:01\u001b[0m\n",
      "\u001b[?25hDownloading aiohappyeyeballs-2.4.3-py3-none-any.whl (14 kB)\n",
      "Downloading aiosignal-1.3.1-py3-none-any.whl (7.6 kB)\n",
      "Downloading attrs-24.2.0-py3-none-any.whl (63 kB)\n",
      "Downloading frozenlist-1.5.0-cp311-cp311-manylinux_2_5_x86_64.manylinux1_x86_64.manylinux_2_17_x86_64.manylinux2014_x86_64.whl (274 kB)\n",
      "Downloading multidict-6.1.0-cp311-cp311-manylinux_2_17_x86_64.manylinux2014_x86_64.whl (129 kB)\n",
      "Downloading propcache-0.2.0-cp311-cp311-manylinux_2_17_x86_64.manylinux2014_x86_64.whl (236 kB)\n",
      "Downloading yarl-1.18.0-cp311-cp311-manylinux_2_17_x86_64.manylinux2014_x86_64.whl (343 kB)\n",
      "Installing collected packages: propcache, multidict, frozenlist, attrs, aiohappyeyeballs, yarl, aiosignal, aiohttp\n",
      "Successfully installed aiohappyeyeballs-2.4.3 aiohttp-3.11.7 aiosignal-1.3.1 attrs-24.2.0 frozenlist-1.5.0 multidict-6.1.0 propcache-0.2.0 yarl-1.18.0\n"
     ]
    }
   ],
   "source": [
    "!pip install azure-storage-blob[aio] azure-identity asyncio"
   ]
  },
  {
   "cell_type": "markdown",
   "metadata": {},
   "source": [
    "Installing de azure cli\n",
    "\n",
    "**It is necessary to authentication.**\n",
    "Run it in a terminal, as Jupyter Notebook is not well-suited for code that relies on continuous input or real-time interactivity."
   ]
  },
  {
   "cell_type": "markdown",
   "metadata": {},
   "source": [
    "Importing libraries"
   ]
  },
  {
   "cell_type": "code",
   "execution_count": 23,
   "metadata": {},
   "outputs": [],
   "source": [
    "import asyncio\n",
    "from azure.identity import DefaultAzureCredential\n",
    "from azure.storage.blob.aio import BlobServiceClient"
   ]
  },
  {
   "cell_type": "markdown",
   "metadata": {},
   "source": [
    "Here we take the url_account variable from our configuration file"
   ]
  },
  {
   "cell_type": "code",
   "execution_count": null,
   "metadata": {},
   "outputs": [],
   "source": [
    "import json\n",
    "\n",
    "def pick_variable_account_url():\n",
    "\n",
    "    # loading config JSON file\n",
    "    with open(\"config.json\", \"r\") as config_file:\n",
    "        config = json.load(config_file)\n",
    "\n",
    "    # picking variable\n",
    "    account_url = config[\"ACCOUNT_URL\"]\n",
    "\n",
    "    return account_url"
   ]
  },
  {
   "cell_type": "markdown",
   "metadata": {},
   "source": [
    "Creating one class Container\n",
    "\n",
    "- The list_container asynchronous method recieve one blob service client as parameter;\n",
    "- This method call blob_service_client.list_containers and return one Asynchronous iterator with all container in the blob service."
   ]
  },
  {
   "cell_type": "code",
   "execution_count": 18,
   "metadata": {},
   "outputs": [],
   "source": [
    "class Containers:\n",
    "    async def list_containers(self, blob_service_client: BlobServiceClient):\n",
    "        \"\"\"Listing all containers from one storage account.\"\"\"\n",
    "        try:\n",
    "            async for container in blob_service_client.list_containers(include_metadata=True):\n",
    "                print(f\"Container: {container['name']}, Metadata: {container['metadata']}\")\n",
    "                await asyncio.sleep(1)  # It pauses the execution of the coroutine for 1 second without blocking the event loop. \n",
    "                                        # This allows other tasks to run during the pause, making it efficient in asynchronous programming.\n",
    "        except asyncio.CancelledError:\n",
    "            print(\"Execution canceled due to timeout.\")\n",
    "        except Exception as e:\n",
    "            print(f\"An error occurred while listing containers: {e}\")\n"
   ]
  },
  {
   "cell_type": "markdown",
   "metadata": {},
   "source": []
  },
  {
   "cell_type": "code",
   "execution_count": 27,
   "metadata": {},
   "outputs": [],
   "source": [
    "async def main():\n",
    "    sample = Containers()\n",
    "    account_url = pick_variable_account_url()\n",
    "    credential = DefaultAzureCredential() # It is part of the Azure Identity library. This object provides authentication credentials to access Azure services securely.\n",
    "                                          # First, log in to the terminal using the CLI command: az login. The credentials will then be used by the DefaultAzureCredential function for authentication.\n",
    "                                          #Creates an instance of the BlobServiceClient, which is used to interact with Azure Blob Storage.\n",
    "    async with BlobServiceClient(account_url, credential=credential) as blob_service_client:\n",
    "        # Timeout for 10 secs\n",
    "        timeout = 30\n",
    "        try:\n",
    "            await asyncio.wait_for(sample.list_containers(blob_service_client), timeout=timeout)\n",
    "        except asyncio.TimeoutError:\n",
    "            print(f\"The method was interrupted after {timeout} seconds due to a timeout.\")\n"
   ]
  },
  {
   "cell_type": "code",
   "execution_count": 28,
   "metadata": {},
   "outputs": [
    {
     "name": "stdout",
     "output_type": "stream",
     "text": [
      "Container: bronze, Metadata: {}\n",
      "Container: gold, Metadata: {}\n",
      "Container: silver, Metadata: {}\n"
     ]
    }
   ],
   "source": [
    "# This line code is needed for Jupyter Notebooks\n",
    "await main()"
   ]
  },
  {
   "cell_type": "code",
   "execution_count": null,
   "metadata": {},
   "outputs": [],
   "source": []
  }
 ],
 "metadata": {
  "kernelspec": {
   "display_name": ".venv",
   "language": "python",
   "name": "python3"
  },
  "language_info": {
   "codemirror_mode": {
    "name": "ipython",
    "version": 3
   },
   "file_extension": ".py",
   "mimetype": "text/x-python",
   "name": "python",
   "nbconvert_exporter": "python",
   "pygments_lexer": "ipython3",
   "version": "3.11.6"
  }
 },
 "nbformat": 4,
 "nbformat_minor": 2
}
