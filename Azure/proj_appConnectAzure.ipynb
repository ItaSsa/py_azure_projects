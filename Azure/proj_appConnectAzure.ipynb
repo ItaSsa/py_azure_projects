{
 "cells": [
  {
   "cell_type": "markdown",
   "metadata": {},
   "source": [
    "From your project directory, install packages for the Azure Blob Storage and Azure Identity client libraries using the pip install command. \n",
    "**The azure-identity package is needed for passwordless connections to Azure services.**\n",
    "\n",
    "source: https://learn.microsoft.com/en-us/azure/storage/blobs/storage-blob-python-get-started?tabs=azure-ad "
   ]
  },
  {
   "cell_type": "code",
   "execution_count": 1,
   "metadata": {},
   "outputs": [
    {
     "name": "stdout",
     "output_type": "stream",
     "text": [
      "Collecting azure-storage-blob\n",
      "  Downloading azure_storage_blob-12.24.0-py3-none-any.whl (408 kB)\n",
      "\u001b[2K     \u001b[90m━━━━━━━━━━━━━━━━━━━━━━━━━━━━━━━━━━━━━\u001b[0m \u001b[32m408.6/408.6 kB\u001b[0m \u001b[31m784.6 kB/s\u001b[0m eta \u001b[36m0:00:00\u001b[0ma \u001b[36m0:00:01\u001b[0m\n",
      "\u001b[?25hCollecting azure-identity\n",
      "  Downloading azure_identity-1.19.0-py3-none-any.whl (187 kB)\n",
      "\u001b[2K     \u001b[90m━━━━━━━━━━━━━━━━━━━━━━━━━━━━━━━━━━━━━━━\u001b[0m \u001b[32m187.6/187.6 kB\u001b[0m \u001b[31m9.2 MB/s\u001b[0m eta \u001b[36m0:00:00\u001b[0m\n",
      "\u001b[?25hCollecting azure-core>=1.30.0\n",
      "  Downloading azure_core-1.32.0-py3-none-any.whl (198 kB)\n",
      "\u001b[2K     \u001b[90m━━━━━━━━━━━━━━━━━━━━━━━━━━━━━━━━━━━━━━\u001b[0m \u001b[32m198.9/198.9 kB\u001b[0m \u001b[31m13.0 MB/s\u001b[0m eta \u001b[36m0:00:00\u001b[0m\n",
      "\u001b[?25hCollecting cryptography>=2.1.4\n",
      "  Downloading cryptography-43.0.3-cp39-abi3-manylinux_2_28_x86_64.whl (4.0 MB)\n",
      "\u001b[2K     \u001b[90m━━━━━━━━━━━━━━━━━━━━━━━━━━━━━━━━━━━━━━━━\u001b[0m \u001b[32m4.0/4.0 MB\u001b[0m \u001b[31m12.8 MB/s\u001b[0m eta \u001b[36m0:00:00\u001b[0m00:01\u001b[0m00:01\u001b[0m\n",
      "\u001b[?25hRequirement already satisfied: typing-extensions>=4.6.0 in /home/itaira/Python/Notebooks/myenv/lib/python3.11/site-packages (from azure-storage-blob) (4.11.0)\n",
      "Collecting isodate>=0.6.1\n",
      "  Downloading isodate-0.7.2-py3-none-any.whl (22 kB)\n",
      "Collecting msal>=1.30.0\n",
      "  Downloading msal-1.31.1-py3-none-any.whl (113 kB)\n",
      "\u001b[2K     \u001b[90m━━━━━━━━━━━━━━━━━━━━━━━━━━━━━━━━━━━━━━━\u001b[0m \u001b[32m113.2/113.2 kB\u001b[0m \u001b[31m7.7 MB/s\u001b[0m eta \u001b[36m0:00:00\u001b[0m\n",
      "\u001b[?25hCollecting msal-extensions>=1.2.0\n",
      "  Downloading msal_extensions-1.2.0-py3-none-any.whl (19 kB)\n",
      "Requirement already satisfied: requests>=2.21.0 in /home/itaira/Python/Notebooks/myenv/lib/python3.11/site-packages (from azure-core>=1.30.0->azure-storage-blob) (2.31.0)\n",
      "Requirement already satisfied: six>=1.11.0 in /home/itaira/Python/Notebooks/myenv/lib/python3.11/site-packages (from azure-core>=1.30.0->azure-storage-blob) (1.16.0)\n",
      "Collecting cffi>=1.12\n",
      "  Using cached cffi-1.17.1-cp311-cp311-manylinux_2_17_x86_64.manylinux2014_x86_64.whl (467 kB)\n",
      "Collecting PyJWT[crypto]<3,>=1.0.0\n",
      "  Downloading PyJWT-2.10.0-py3-none-any.whl (23 kB)\n",
      "Collecting portalocker<3,>=1.4\n",
      "  Downloading portalocker-2.10.1-py3-none-any.whl (18 kB)\n",
      "Collecting pycparser\n",
      "  Using cached pycparser-2.22-py3-none-any.whl (117 kB)\n",
      "Requirement already satisfied: charset-normalizer<4,>=2 in /home/itaira/Python/Notebooks/myenv/lib/python3.11/site-packages (from requests>=2.21.0->azure-core>=1.30.0->azure-storage-blob) (3.3.2)\n",
      "Requirement already satisfied: idna<4,>=2.5 in /home/itaira/Python/Notebooks/myenv/lib/python3.11/site-packages (from requests>=2.21.0->azure-core>=1.30.0->azure-storage-blob) (3.7)\n",
      "Requirement already satisfied: urllib3<3,>=1.21.1 in /home/itaira/Python/Notebooks/myenv/lib/python3.11/site-packages (from requests>=2.21.0->azure-core>=1.30.0->azure-storage-blob) (2.2.1)\n",
      "Requirement already satisfied: certifi>=2017.4.17 in /home/itaira/Python/Notebooks/myenv/lib/python3.11/site-packages (from requests>=2.21.0->azure-core>=1.30.0->azure-storage-blob) (2024.2.2)\n",
      "Installing collected packages: PyJWT, pycparser, portalocker, isodate, cffi, azure-core, cryptography, azure-storage-blob, msal, msal-extensions, azure-identity\n",
      "Successfully installed PyJWT-2.10.0 azure-core-1.32.0 azure-identity-1.19.0 azure-storage-blob-12.24.0 cffi-1.17.1 cryptography-43.0.3 isodate-0.7.2 msal-1.31.1 msal-extensions-1.2.0 portalocker-2.10.1 pycparser-2.22\n"
     ]
    }
   ],
   "source": [
    "!pip install azure-storage-blob azure-identity"
   ]
  },
  {
   "cell_type": "markdown",
   "metadata": {},
   "source": [
    "The Azure Blob Storage client library for Python supports both synchronous and asynchronous APIs. The asynchronous APIs are based on Python's asyncio library.\n",
    "\n",
    "Follow these steps to use the asynchronous APIs in your project:\n",
    "\n",
    "Install an async transport, such as aiohttp. You can install aiohttp along with azure-storage-blob by using an optional dependency install command. In this example, we use the following pip install command:"
   ]
  },
  {
   "cell_type": "code",
   "execution_count": 3,
   "metadata": {},
   "outputs": [
    {
     "name": "stdout",
     "output_type": "stream",
     "text": [
      "Requirement already satisfied: azure-storage-blob[aio] in /home/itaira/Python/Notebooks/myenv/lib/python3.11/site-packages (12.24.0)\n",
      "Requirement already satisfied: azure-core>=1.30.0 in /home/itaira/Python/Notebooks/myenv/lib/python3.11/site-packages (from azure-storage-blob[aio]) (1.32.0)\n",
      "Requirement already satisfied: cryptography>=2.1.4 in /home/itaira/Python/Notebooks/myenv/lib/python3.11/site-packages (from azure-storage-blob[aio]) (43.0.3)\n",
      "Requirement already satisfied: typing-extensions>=4.6.0 in /home/itaira/Python/Notebooks/myenv/lib/python3.11/site-packages (from azure-storage-blob[aio]) (4.11.0)\n",
      "Requirement already satisfied: isodate>=0.6.1 in /home/itaira/Python/Notebooks/myenv/lib/python3.11/site-packages (from azure-storage-blob[aio]) (0.7.2)\n",
      "Requirement already satisfied: requests>=2.21.0 in /home/itaira/Python/Notebooks/myenv/lib/python3.11/site-packages (from azure-core>=1.30.0->azure-storage-blob[aio]) (2.31.0)\n",
      "Requirement already satisfied: six>=1.11.0 in /home/itaira/Python/Notebooks/myenv/lib/python3.11/site-packages (from azure-core>=1.30.0->azure-storage-blob[aio]) (1.16.0)\n",
      "Collecting aiohttp>=3.0\n",
      "  Downloading aiohttp-3.11.7-cp311-cp311-manylinux_2_17_x86_64.manylinux2014_x86_64.whl (1.7 MB)\n",
      "\u001b[2K     \u001b[90m━━━━━━━━━━━━━━━━━━━━━━━━━━━━━━━━━━━━━━━━\u001b[0m \u001b[32m1.7/1.7 MB\u001b[0m \u001b[31m9.6 MB/s\u001b[0m eta \u001b[36m0:00:00\u001b[0mta \u001b[36m0:00:01\u001b[0m\n",
      "\u001b[?25hRequirement already satisfied: cffi>=1.12 in /home/itaira/Python/Notebooks/myenv/lib/python3.11/site-packages (from cryptography>=2.1.4->azure-storage-blob[aio]) (1.17.1)\n",
      "Collecting aiohappyeyeballs>=2.3.0\n",
      "  Downloading aiohappyeyeballs-2.4.3-py3-none-any.whl (14 kB)\n",
      "Collecting aiosignal>=1.1.2\n",
      "  Downloading aiosignal-1.3.1-py3-none-any.whl (7.6 kB)\n",
      "Requirement already satisfied: attrs>=17.3.0 in /home/itaira/Python/Notebooks/myenv/lib/python3.11/site-packages (from aiohttp>=3.0->azure-core>=1.30.0->azure-storage-blob[aio]) (23.2.0)\n",
      "Collecting frozenlist>=1.1.1\n",
      "  Downloading frozenlist-1.5.0-cp311-cp311-manylinux_2_5_x86_64.manylinux1_x86_64.manylinux_2_17_x86_64.manylinux2014_x86_64.whl (274 kB)\n",
      "\u001b[2K     \u001b[90m━━━━━━━━━━━━━━━━━━━━━━━━━━━━━━━━━━━━━━\u001b[0m \u001b[32m274.9/274.9 kB\u001b[0m \u001b[31m14.3 MB/s\u001b[0m eta \u001b[36m0:00:00\u001b[0m\n",
      "\u001b[?25hCollecting multidict<7.0,>=4.5\n",
      "  Downloading multidict-6.1.0-cp311-cp311-manylinux_2_17_x86_64.manylinux2014_x86_64.whl (129 kB)\n",
      "\u001b[2K     \u001b[90m━━━━━━━━━━━━━━━━━━━━━━━━━━━━━━━━━━━━━━\u001b[0m \u001b[32m129.0/129.0 kB\u001b[0m \u001b[31m12.2 MB/s\u001b[0m eta \u001b[36m0:00:00\u001b[0m\n",
      "\u001b[?25hCollecting propcache>=0.2.0\n",
      "  Downloading propcache-0.2.0-cp311-cp311-manylinux_2_17_x86_64.manylinux2014_x86_64.whl (236 kB)\n",
      "\u001b[2K     \u001b[90m━━━━━━━━━━━━━━━━━━━━━━━━━━━━━━━━━━━━━━\u001b[0m \u001b[32m236.0/236.0 kB\u001b[0m \u001b[31m14.0 MB/s\u001b[0m eta \u001b[36m0:00:00\u001b[0m\n",
      "\u001b[?25hCollecting yarl<2.0,>=1.17.0\n",
      "  Downloading yarl-1.18.0-cp311-cp311-manylinux_2_17_x86_64.manylinux2014_x86_64.whl (343 kB)\n",
      "\u001b[2K     \u001b[90m━━━━━━━━━━━━━━━━━━━━━━━━━━━━━━━━━━━━━━\u001b[0m \u001b[32m343.9/343.9 kB\u001b[0m \u001b[31m12.6 MB/s\u001b[0m eta \u001b[36m0:00:00\u001b[0m\n",
      "\u001b[?25hRequirement already satisfied: pycparser in /home/itaira/Python/Notebooks/myenv/lib/python3.11/site-packages (from cffi>=1.12->cryptography>=2.1.4->azure-storage-blob[aio]) (2.22)\n",
      "Requirement already satisfied: charset-normalizer<4,>=2 in /home/itaira/Python/Notebooks/myenv/lib/python3.11/site-packages (from requests>=2.21.0->azure-core>=1.30.0->azure-storage-blob[aio]) (3.3.2)\n",
      "Requirement already satisfied: idna<4,>=2.5 in /home/itaira/Python/Notebooks/myenv/lib/python3.11/site-packages (from requests>=2.21.0->azure-core>=1.30.0->azure-storage-blob[aio]) (3.7)\n",
      "Requirement already satisfied: urllib3<3,>=1.21.1 in /home/itaira/Python/Notebooks/myenv/lib/python3.11/site-packages (from requests>=2.21.0->azure-core>=1.30.0->azure-storage-blob[aio]) (2.2.1)\n",
      "Requirement already satisfied: certifi>=2017.4.17 in /home/itaira/Python/Notebooks/myenv/lib/python3.11/site-packages (from requests>=2.21.0->azure-core>=1.30.0->azure-storage-blob[aio]) (2024.2.2)\n",
      "Installing collected packages: propcache, multidict, frozenlist, aiohappyeyeballs, yarl, aiosignal, aiohttp\n",
      "Successfully installed aiohappyeyeballs-2.4.3 aiohttp-3.11.7 aiosignal-1.3.1 frozenlist-1.5.0 multidict-6.1.0 propcache-0.2.0 yarl-1.18.0\n"
     ]
    }
   ],
   "source": [
    "!pip install azure-storage-blob[aio]\n"
   ]
  },
  {
   "cell_type": "code",
   "execution_count": null,
   "metadata": {},
   "outputs": [],
   "source": [
    "from azure.identity import DefaultAzureCredential\n",
    "from azure.storage.blob import BlobServiceClient, BlobClient, ContainerClient\n",
    "\n",
    "'''Blob client library information:\n",
    "azure.storage.blob: Contains the primary classes (client objects) that you can use to operate on the service, containers, and blobs.\n",
    "https://learn.microsoft.com/en-us/python/api/azure-storage-blob/azure.storage.blob?view=azure-python\n",
    "'''"
   ]
  },
  {
   "cell_type": "code",
   "execution_count": 4,
   "metadata": {},
   "outputs": [],
   "source": [
    "import asyncio\n",
    "\n",
    "from azure.identity.aio import DefaultAzureCredential\n",
    "from azure.storage.blob.aio import BlobServiceClient, BlobClient, ContainerClient"
   ]
  },
  {
   "cell_type": "markdown",
   "metadata": {},
   "source": [
    "Create a client object using async with to begin working with data resources. Only the top level client needs to use async with, as other clients created from it share the same connection pool. In this example, we create a BlobServiceClient object using async with, and then create a ContainerClient object:"
   ]
  },
  {
   "cell_type": "code",
   "execution_count": null,
   "metadata": {},
   "outputs": [],
   "source": [
    "\n",
    "account_url = \"https://sgitainplace.blob.core.windows.net/\"\n",
    "'''An easy and secure way to authorize access and connect to Blob Storage is to obtain an OAuth token\n",
    " by creating a DefaultAzureCredential instance. You can then use that credential to create a BlobServiceClient object.'''\n",
    "credential = DefaultAzureCredential()\n"
   ]
  },
  {
   "cell_type": "code",
   "execution_count": 9,
   "metadata": {},
   "outputs": [],
   "source": [
    "async with BlobServiceClient(account_url, credential=credential) as blob_service_client:\n",
    "    container_client = blob_service_client.get_container_client(container=\"sample-container\")"
   ]
  },
  {
   "cell_type": "code",
   "execution_count": 10,
   "metadata": {},
   "outputs": [],
   "source": [
    "async def list_containers(self, blob_service_client: BlobServiceClient):\n",
    "    async for container in blob_service_client.list_containers(include_metadata=True):\n",
    "        print(container['name'], container['metadata'])\n",
    "    "
   ]
  },
  {
   "cell_type": "markdown",
   "metadata": {},
   "source": []
  },
  {
   "cell_type": "markdown",
   "metadata": {},
   "source": [
    "Using in one structured way"
   ]
  },
  {
   "cell_type": "markdown",
   "metadata": {},
   "source": [
    "Providing Azure Autentication"
   ]
  },
  {
   "cell_type": "code",
   "execution_count": null,
   "metadata": {},
   "outputs": [
    {
     "name": "stdout",
     "output_type": "stream",
     "text": [
      "[sudo] password for itaira: \n"
     ]
    }
   ],
   "source": [
    "# Installing azure cli to autenticantion\n",
    "# I did this on terminal\n",
    "!curl -sL https://aka.ms/InstallAzureCLIDeb | sudo bash\n"
   ]
  },
  {
   "cell_type": "markdown",
   "metadata": {},
   "source": [
    "Veja o arquivo bash_log-AutenticationViaAzCli.txt"
   ]
  },
  {
   "cell_type": "markdown",
   "metadata": {},
   "source": [
    "Doing the reading"
   ]
  },
  {
   "cell_type": "code",
   "execution_count": null,
   "metadata": {},
   "outputs": [
    {
     "name": "stdout",
     "output_type": "stream",
     "text": [
      "Container: sgitainplace-teste1, Metadata: {}\n",
      "Container: sgitainplace-teste2, Metadata: {}\n",
      "Container: sgitainplace-teste3, Metadata: {}\n"
     ]
    }
   ],
   "source": [
    "import asyncio\n",
    "from azure.identity import DefaultAzureCredential\n",
    "from azure.storage.blob.aio import BlobServiceClient\n",
    "\n",
    "class ContainerSamples:\n",
    "    async def list_containers(self, blob_service_client: BlobServiceClient):\n",
    "        \"\"\"Listing all containers from one storage account.\"\"\"\n",
    "        try:\n",
    "            async for container in blob_service_client.list_containers(include_metadata=True):\n",
    "                print(f\"Container: {container['name']}, Metadata: {container['metadata']}\")\n",
    "                await asyncio.sleep(1)  # Simulação de trabalho\n",
    "        except asyncio.CancelledError:\n",
    "            print(\"Execution canceled due to timeout.\")\n",
    "        except Exception as e:\n",
    "            print(f\"An error occurred while listing containers: {e}\")\n",
    "\n",
    "async def main():\n",
    "    sample = ContainerSamples()\n",
    "    account_url = \"https://sgitainplace.blob.core.windows.net/\"\n",
    "    credential = DefaultAzureCredential()\n",
    "\n",
    "    async with BlobServiceClient(account_url, credential=credential) as blob_service_client:\n",
    "        # Timeout definido para 5 segundos\n",
    "        timeout = 25\n",
    "        try:\n",
    "            await asyncio.wait_for(sample.list_containers(blob_service_client), timeout=timeout)\n",
    "        except asyncio.TimeoutError:\n",
    "            print(f\"The method was interrupted after {timeout} seconds due to a timeout.\")\n",
    "\n",
    "# This line code is needed for Jupyter Notebooks\n",
    "await main()\n",
    "\n"
   ]
  },
  {
   "cell_type": "code",
   "execution_count": null,
   "metadata": {},
   "outputs": [],
   "source": []
  }
 ],
 "metadata": {
  "kernelspec": {
   "display_name": "myenv",
   "language": "python",
   "name": "python3"
  },
  "language_info": {
   "codemirror_mode": {
    "name": "ipython",
    "version": 3
   },
   "file_extension": ".py",
   "mimetype": "text/x-python",
   "name": "python",
   "nbconvert_exporter": "python",
   "pygments_lexer": "ipython3",
   "version": "3.11.6"
  }
 },
 "nbformat": 4,
 "nbformat_minor": 2
}
