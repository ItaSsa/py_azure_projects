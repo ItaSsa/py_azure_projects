{
 "cells": [
  {
   "cell_type": "code",
   "execution_count": 2,
   "metadata": {},
   "outputs": [],
   "source": [
    "import json\n",
    "\n",
    "def get_environment_variable(config_file, variable_name):\n",
    "    \"\"\"\n",
    "        Getting the Storage Account connection string from the configuration file\n",
    "\n",
    "        :param config_file: the json file with the environment variables\n",
    "        :param variable_name: the variable name\n",
    "    \"\"\"\n",
    "    try:\n",
    "        # loading config JSON file\n",
    "        with open(\"config.json\", \"r\") as config_file:\n",
    "            config = json.load(config_file)\n",
    "\n",
    "        # picking variable\n",
    "        var_name = config[variable_name]\n",
    "\n",
    "        if var_name:\n",
    "            print(f\"Succcess getting {variable_name}\")\n",
    "            return var_name\n",
    "        else:\n",
    "            print(\"Failed to retrieve the {variable_name}.\")\n",
    "            return None\n",
    "    except Exception as e:\n",
    "        print(f\"Caught an exception: {e}\")\n",
    "    return None\n",
    "\n"
   ]
  },
  {
   "cell_type": "code",
   "execution_count": 3,
   "metadata": {},
   "outputs": [
    {
     "name": "stdout",
     "output_type": "stream",
     "text": [
      "Succcess getting STORAGE_ACCOUNT_NAME\n",
      "Succcess getting RESOURCE_GROUP_NAME\n"
     ]
    }
   ],
   "source": [
    "## Getting the connection string\n",
    "\n",
    "storage_account_name = get_environment_variable(\"config_file\",\"STORAGE_ACCOUNT_NAME\")\n",
    "resource_group_name =  get_environment_variable(\"config_file\",\"RESOURCE_GROUP_NAME\")\n",
    "result = !az storage account show-connection-string --name {storage_account_name} --resource-group {resource_group_name}"
   ]
  },
  {
   "cell_type": "code",
   "execution_count": 33,
   "metadata": {},
   "outputs": [
    {
     "name": "stdout",
     "output_type": "stream",
     "text": [
      "Success getting and writting the string!\n"
     ]
    }
   ],
   "source": [
    "import json\n",
    "## Copying the string in the file\n",
    "if result:\n",
    "    json_str = \"\\n\".join(result)\n",
    "    connection_string_data = json.loads(json_str)  # Json to dict\n",
    "    \n",
    "    # Salvar a conexão no arquivo config.json\n",
    "    with open(\"config.json\", \"r+\") as file:\n",
    "        config = json.load(file)  # Carregar o JSON existente\n",
    "        config[\"CONNECTION_STRING\"] = connection_string_data[\"connectionString\"]  # Updating variable\n",
    "        file.seek(0)  #go to file begining\n",
    "        json.dump(config, file, indent=4)  # saving file\n",
    "        file.truncate()  \n",
    "\n",
    "    print(\"Success getting and writting the string!\")\n",
    "else:\n",
    "    print(\"Error\")"
   ]
  },
  {
   "cell_type": "code",
   "execution_count": 3,
   "metadata": {},
   "outputs": [
    {
     "name": "stdout",
     "output_type": "stream",
     "text": [
      "Collecting azure-storage-blob\n",
      "  Downloading azure_storage_blob-12.24.1-py3-none-any.whl.metadata (26 kB)\n",
      "Requirement already satisfied: azure-core>=1.30.0 in /home/itaira/proj_py/py_azure_projects/venv/lib/python3.12/site-packages (from azure-storage-blob) (1.32.0)\n",
      "Requirement already satisfied: cryptography>=2.1.4 in /home/itaira/proj_py/py_azure_projects/venv/lib/python3.12/site-packages (from azure-storage-blob) (44.0.1)\n",
      "Requirement already satisfied: typing-extensions>=4.6.0 in /home/itaira/proj_py/py_azure_projects/venv/lib/python3.12/site-packages (from azure-storage-blob) (4.12.2)\n",
      "Requirement already satisfied: isodate>=0.6.1 in /home/itaira/proj_py/py_azure_projects/venv/lib/python3.12/site-packages (from azure-storage-blob) (0.7.2)\n",
      "Requirement already satisfied: requests>=2.21.0 in /home/itaira/proj_py/py_azure_projects/venv/lib/python3.12/site-packages (from azure-core>=1.30.0->azure-storage-blob) (2.32.3)\n",
      "Requirement already satisfied: six>=1.11.0 in /home/itaira/proj_py/py_azure_projects/venv/lib/python3.12/site-packages (from azure-core>=1.30.0->azure-storage-blob) (1.17.0)\n",
      "Requirement already satisfied: cffi>=1.12 in /home/itaira/proj_py/py_azure_projects/venv/lib/python3.12/site-packages (from cryptography>=2.1.4->azure-storage-blob) (1.17.1)\n",
      "Requirement already satisfied: pycparser in /home/itaira/proj_py/py_azure_projects/venv/lib/python3.12/site-packages (from cffi>=1.12->cryptography>=2.1.4->azure-storage-blob) (2.22)\n",
      "Requirement already satisfied: charset-normalizer<4,>=2 in /home/itaira/proj_py/py_azure_projects/venv/lib/python3.12/site-packages (from requests>=2.21.0->azure-core>=1.30.0->azure-storage-blob) (3.4.1)\n",
      "Requirement already satisfied: idna<4,>=2.5 in /home/itaira/proj_py/py_azure_projects/venv/lib/python3.12/site-packages (from requests>=2.21.0->azure-core>=1.30.0->azure-storage-blob) (3.10)\n",
      "Requirement already satisfied: urllib3<3,>=1.21.1 in /home/itaira/proj_py/py_azure_projects/venv/lib/python3.12/site-packages (from requests>=2.21.0->azure-core>=1.30.0->azure-storage-blob) (2.3.0)\n",
      "Requirement already satisfied: certifi>=2017.4.17 in /home/itaira/proj_py/py_azure_projects/venv/lib/python3.12/site-packages (from requests>=2.21.0->azure-core>=1.30.0->azure-storage-blob) (2025.1.31)\n",
      "Downloading azure_storage_blob-12.24.1-py3-none-any.whl (408 kB)\n",
      "\u001b[2K   \u001b[38;2;114;156;31m━━━━━━━━━━━━━━━━━━━━━━━━━━━━━━━━━━━━━━━━\u001b[0m \u001b[32m408.4/408.4 kB\u001b[0m \u001b[31m4.4 MB/s\u001b[0m eta \u001b[36m0:00:00\u001b[0m[36m0:00:01\u001b[0m\u001b[36m0:00:01\u001b[0m\n",
      "\u001b[?25hInstalling collected packages: azure-storage-blob\n",
      "Successfully installed azure-storage-blob-12.24.1\n"
     ]
    }
   ],
   "source": [
    "!pip install azure-storage-blob\n"
   ]
  },
  {
   "cell_type": "code",
   "execution_count": null,
   "metadata": {},
   "outputs": [],
   "source": [
    "from azure.storage.blob import BlobServiceClient\n",
    "\n",
    "def connect_to_blob_storage(connection_string):\n",
    "    \"\"\"\n",
    "      Connect to Azure Blob Storage using a connection string and return the blob service client.\n",
    "    \n",
    "    :param connection_string: The Azure Storage account connection string.\n",
    "    \"\"\"\n",
    "    try:\n",
    "        # Create the BlobServiceClient object\n",
    "        blob_service_client = BlobServiceClient.from_connection_string(connection_string)\n",
    "        return blob_service_client \n",
    "    except Exception as e:\n",
    "        print(f\"Error connecting to Blob Storage: {e}\")"
   ]
  },
  {
   "cell_type": "code",
   "execution_count": 38,
   "metadata": {},
   "outputs": [],
   "source": [
    "def create_containers(blob_service_client,container_name):\n",
    "    # Create the container\n",
    "    try:\n",
    "        container_client = blob_service_client.create_container(container_name)\n",
    "        print(f\"Container '{container_name}' created successfully!\")\n",
    "    except Exception as e:\n",
    "        print(f\"Error creating container: {e}\")"
   ]
  },
  {
   "cell_type": "code",
   "execution_count": 5,
   "metadata": {},
   "outputs": [],
   "source": [
    "def list_containers(blob_service_client):\n",
    "    \"\"\"\n",
    "        List all containers in one storage account\n",
    "\n",
    "        :param blob_service_client: the connect blob storage service for the Azure Account\n",
    "    \"\"\"\n",
    "    # List the containers in the storage account\n",
    "    containers = blob_service_client.list_containers()\n",
    "    print(\"Containers in the storage account:\")\n",
    "    for container in containers:\n",
    "        print(f\" - {container['name']}\")\n"
   ]
  },
  {
   "cell_type": "code",
   "execution_count": 6,
   "metadata": {},
   "outputs": [],
   "source": [
    "from datetime import datetime\n",
    "\n",
    "def upload_file_blob(blob_service_client, file_name, container_name, file_path):\n",
    "    \"\"\"\n",
    "        Upload a file to Azure Blob Storage.\n",
    "        \n",
    "        :param blob_service_client: the connected blob service client\n",
    "        :param blob_name: the name of the file after upload\n",
    "        :param container_name: the name of the container that shoud receive the file\n",
    "        :param file_path: the full path of the file \n",
    "    \"\"\"\n",
    "    try:\n",
    "        # Get the BlobClient\n",
    "        blob_client = blob_service_client.get_blob_client(container=container_name, blob=file_name)\n",
    "        \n",
    "        # Upload the file\n",
    "        with open(file_path, \"rb\") as file_data:\n",
    "            blob_client.upload_blob(file_data, overwrite=True) # with  overwrite=True the file can be overwrited\n",
    "        current_time = datetime.now().strftime(\"%d/%m/%Y %H:%M\")\n",
    "        print(f\"File '{file_path}' uploaded to container '{container_name}' as blob '{file_name} at {current_time} '.\")\n",
    "    except Exception as e:\n",
    "        print(f\"Error uploading blob: {e}\")"
   ]
  },
  {
   "cell_type": "markdown",
   "metadata": {},
   "source": [
    "## Getting env variables"
   ]
  },
  {
   "cell_type": "code",
   "execution_count": 34,
   "metadata": {},
   "outputs": [
    {
     "name": "stdout",
     "output_type": "stream",
     "text": [
      "Succcess getting CONNECTION_STRING\n"
     ]
    }
   ],
   "source": [
    "# 1. Get connection string of the Storage Account\n",
    "config_file_path = \"config.json\"  \n",
    "connection_string = get_environment_variable(config_file_path,\"CONNECTION_STRING\")"
   ]
  },
  {
   "cell_type": "code",
   "execution_count": 35,
   "metadata": {},
   "outputs": [
    {
     "name": "stdout",
     "output_type": "stream",
     "text": [
      "The blob service Client has been created\n"
     ]
    }
   ],
   "source": [
    "#2.Connecting the Blob service Storage for the Storage Account\n",
    "blob_service_client = connect_to_blob_storage(connection_string)\n",
    "if blob_service_client:\n",
    "    print(f\"The blob service Client has been created\")\n",
    "else:\n",
    "    print(f\"Unable to connect\")"
   ]
  },
  {
   "cell_type": "code",
   "execution_count": null,
   "metadata": {},
   "outputs": [],
   "source": []
  },
  {
   "cell_type": "code",
   "execution_count": 36,
   "metadata": {},
   "outputs": [
    {
     "name": "stdout",
     "output_type": "stream",
     "text": [
      "Containers in the storage account:\n"
     ]
    }
   ],
   "source": [
    "#3.Listing the containers in the Storage Account Blob Service\n",
    "list_containers(blob_service_client)"
   ]
  },
  {
   "cell_type": "code",
   "execution_count": 39,
   "metadata": {},
   "outputs": [
    {
     "name": "stdout",
     "output_type": "stream",
     "text": [
      "File '/home/itaira/Python/projects/Azure/imagedp203.png' uploaded to container 'bronze' as blob 'imaged.png at 02/12/2024 16:10 '.\n"
     ]
    }
   ],
   "source": [
    "# 4.Upload one image in the blob storarage\n",
    "file_name =\"imaged.png\"\n",
    "container_name =\"bronze\"\n",
    "file_path =\"/home/itaira/Python/projects/Azure/imagedp203.png\"\n",
    "\n",
    "upload_file_blob(blob_service_client,file_name,container_name,file_path )\n"
   ]
  },
  {
   "cell_type": "code",
   "execution_count": null,
   "metadata": {},
   "outputs": [],
   "source": []
  },
  {
   "cell_type": "code",
   "execution_count": null,
   "metadata": {},
   "outputs": [],
   "source": []
  }
 ],
 "metadata": {
  "kernelspec": {
   "display_name": ".venv",
   "language": "python",
   "name": "python3"
  },
  "language_info": {
   "codemirror_mode": {
    "name": "ipython",
    "version": 3
   },
   "file_extension": ".py",
   "mimetype": "text/x-python",
   "name": "python",
   "nbconvert_exporter": "python",
   "pygments_lexer": "ipython3",
   "version": "3.12.3"
  }
 },
 "nbformat": 4,
 "nbformat_minor": 2
}
