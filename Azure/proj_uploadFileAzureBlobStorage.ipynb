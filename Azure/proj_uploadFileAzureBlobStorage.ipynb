{
 "cells": [
  {
   "cell_type": "code",
   "execution_count": 4,
   "metadata": {},
   "outputs": [],
   "source": [
    "import json\n",
    "\n",
    "def get_environment_variable(config_file, variable_name):\n",
    "    \"\"\"\n",
    "        Getting the Storage Account connection string from the configuration file\n",
    "\n",
    "        :param config_file: the json file with the environment variables\n",
    "        :param variable_name: the variable name\n",
    "    \"\"\"\n",
    "    try:\n",
    "        # loading config JSON file\n",
    "        with open(\"config.json\", \"r\") as config_file:\n",
    "            config = json.load(config_file)\n",
    "\n",
    "        # picking variable\n",
    "        var_name = config[variable_name]\n",
    "\n",
    "        if var_name:\n",
    "            print(f\"Succcess getting {variable_name}\")\n",
    "            return var_name\n",
    "        else:\n",
    "            print(\"Failed to retrieve the {variable_name}.\")\n",
    "            return None\n",
    "    except Exception as e:\n",
    "        print(f\"Caught an exception: {e}\")\n",
    "    return None\n",
    "\n"
   ]
  },
  {
   "cell_type": "code",
   "execution_count": 17,
   "metadata": {},
   "outputs": [],
   "source": [
    "from azure.storage.blob import BlobServiceClient\n",
    "\n",
    "def connect_to_blob_storage(connection_string):\n",
    "    \"\"\"\n",
    "      Connect to Azure Blob Storage using a connection string and return the blob service client.\n",
    "    \n",
    "    :param connection_string: The Azure Storage account connection string.\n",
    "    \"\"\"\n",
    "    try:\n",
    "        # Create the BlobServiceClient object\n",
    "        blob_service_client = BlobServiceClient.from_connection_string(connection_string)\n",
    "        return blob_service_client \n",
    "    except Exception as e:\n",
    "        print(f\"Error connecting to Blob Storage: {e}\")"
   ]
  },
  {
   "cell_type": "code",
   "execution_count": 20,
   "metadata": {},
   "outputs": [],
   "source": [
    "def list_containers(blob_service_client):\n",
    "    \"\"\"\n",
    "        List all containers in one storage account\n",
    "\n",
    "        :param blob_service_client: the connect blob storage service for the Azure Account\n",
    "    \"\"\"\n",
    "    # List the containers in the storage account\n",
    "    containers = blob_service_client.list_containers()\n",
    "    print(\"Containers in the storage account:\")\n",
    "    for container in containers:\n",
    "        print(f\" - {container['name']}\")\n"
   ]
  },
  {
   "cell_type": "code",
   "execution_count": null,
   "metadata": {},
   "outputs": [],
   "source": [
    "def upload_file_blob(connection_string, container_name, blob_name, file_path):\n",
    "    \"\"\"\n",
    "    Upload a file to Azure Blob Storage.\n",
    "    \n",
    "    \n",
    "    \"\"\"\n",
    "    try:\n",
    "        # Create the BlobServiceClient object\n",
    "        blob_service_client = BlobServiceClient.from_connection_string(connection_string)\n",
    "        \n",
    "        # Get the BlobClient\n",
    "        blob_client = blob_service_client.get_blob_client(container=container_name, blob=blob_name)\n",
    "        \n",
    "        # Upload the file\n",
    "        with open(file_path, \"rb\") as file_data:\n",
    "            blob_client.upload_blob(file_data)\n",
    "        print(f\"File '{file_path}' uploaded to container '{container_name}' as blob '{blob_name}'.\")\n",
    "    except Exception as e:\n",
    "        print(f\"Error uploading blob: {e}\")\n",
    "\n",
    "# Example usage\n",
    "upload_blob(connection_string, \"bronze\", \"imaged.png\", \"/home/itaira/Python/projects/Azure/imagedp203.png\")\n"
   ]
  },
  {
   "cell_type": "code",
   "execution_count": 38,
   "metadata": {},
   "outputs": [],
   "source": [
    "from datetime import datetime\n",
    "\n",
    "def upload_file_blob(blob_service_client, file_name, container_name, file_path):\n",
    "    \"\"\"\n",
    "        Upload a file to Azure Blob Storage.\n",
    "        \n",
    "        :param blob_service_client: the connected blob service client\n",
    "        :param blob_name: the name of the file after upload\n",
    "        :param container_name: the name of the container that shoud receive the file\n",
    "        :param file_path: the full path of the file \n",
    "    \"\"\"\n",
    "    try:\n",
    "        # Get the BlobClient\n",
    "        blob_client = blob_service_client.get_blob_client(container=container_name, blob=file_name)\n",
    "        \n",
    "        # Upload the file\n",
    "        with open(file_path, \"rb\") as file_data:\n",
    "            blob_client.upload_blob(file_data, overwrite=True) # with  overwrite=True the file can be overwrited\n",
    "        current_time = datetime.now().strftime(\"%d/%m/%Y %H:%M\")\n",
    "        print(f\"File '{file_path}' uploaded to container '{container_name}' as blob '{file_name} at {current_time} '.\")\n",
    "    except Exception as e:\n",
    "        print(f\"Error uploading blob: {e}\")"
   ]
  },
  {
   "cell_type": "markdown",
   "metadata": {},
   "source": []
  },
  {
   "cell_type": "code",
   "execution_count": 29,
   "metadata": {},
   "outputs": [
    {
     "name": "stdout",
     "output_type": "stream",
     "text": [
      "Succcess getting CONNECTION_STRING\n"
     ]
    }
   ],
   "source": [
    "# 1. Get connection string of the Storage Account\n",
    "config_file_path = \"config.json\"  \n",
    "connection_string = get_environment_variable(config_file_path,\"CONNECTION_STRING\")"
   ]
  },
  {
   "cell_type": "code",
   "execution_count": 30,
   "metadata": {},
   "outputs": [
    {
     "name": "stdout",
     "output_type": "stream",
     "text": [
      "The blob service Client has been created\n"
     ]
    }
   ],
   "source": [
    "#2.Connecting the Blob service Storage for the Storage Account\n",
    "blob_service_client = connect_to_blob_storage(connection_string)\n",
    "if blob_service_client:\n",
    "    print(f\"The blob service Client has been created\")\n",
    "else:\n",
    "    print(f\"Unable to connect\")"
   ]
  },
  {
   "cell_type": "code",
   "execution_count": null,
   "metadata": {},
   "outputs": [
    {
     "name": "stdout",
     "output_type": "stream",
     "text": [
      "Containers in the storage account:\n",
      " - bronze\n",
      " - gold\n",
      " - silver\n"
     ]
    }
   ],
   "source": [
    "#3.Listing the containers in the Storage Account Blob Service\n",
    "list_containers(blob_service_client)"
   ]
  },
  {
   "cell_type": "code",
   "execution_count": 39,
   "metadata": {},
   "outputs": [
    {
     "name": "stdout",
     "output_type": "stream",
     "text": [
      "File '/home/itaira/Python/projects/Azure/imagedp203.png' uploaded to container 'bronze' as blob 'imaged.png at 02/12/2024 16:10 '.\n"
     ]
    }
   ],
   "source": [
    "# 4.Upload one image in the blob storarage\n",
    "file_name =\"imaged.png\"\n",
    "container_name =\"bronze\"\n",
    "file_path =\"/home/itaira/Python/projects/Azure/imagedp203.png\"\n",
    "\n",
    "upload_file_blob(blob_service_client,file_name,container_name,file_path )\n"
   ]
  },
  {
   "cell_type": "code",
   "execution_count": null,
   "metadata": {},
   "outputs": [],
   "source": []
  },
  {
   "cell_type": "code",
   "execution_count": null,
   "metadata": {},
   "outputs": [],
   "source": []
  }
 ],
 "metadata": {
  "kernelspec": {
   "display_name": ".venv",
   "language": "python",
   "name": "python3"
  },
  "language_info": {
   "codemirror_mode": {
    "name": "ipython",
    "version": 3
   },
   "file_extension": ".py",
   "mimetype": "text/x-python",
   "name": "python",
   "nbconvert_exporter": "python",
   "pygments_lexer": "ipython3",
   "version": "3.11.6"
  }
 },
 "nbformat": 4,
 "nbformat_minor": 2
}
