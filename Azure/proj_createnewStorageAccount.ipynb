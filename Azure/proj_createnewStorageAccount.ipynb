{
 "cells": [
  {
   "cell_type": "markdown",
   "metadata": {},
   "source": [
    "Installing libraries\n",
    "\n",
    "azure-mgmt-storage: A library used to manage Azure Storage resources, such as creating, updating, or deleting storage accounts programmatically.\n",
    "\n",
    "azure-mgmt-resource: A library that allows you to manage Azure Resource Groups and other resource management operations in Azure.\n",
    "\n",
    "azure-identity: A library that provides authentication mechanisms for Azure services, supporting methods like Azure Active Directory, Managed Identity, and environment-based credentials."
   ]
  },
  {
   "cell_type": "code",
   "execution_count": 1,
   "metadata": {},
   "outputs": [
    {
     "name": "stdout",
     "output_type": "stream",
     "text": [
      "Collecting azure-mgmt-storage\n",
      "  Downloading azure_mgmt_storage-21.2.1-py3-none-any.whl.metadata (31 kB)\n",
      "Collecting azure-mgmt-resource\n",
      "  Downloading azure_mgmt_resource-23.2.0-py3-none-any.whl.metadata (38 kB)\n",
      "Collecting azure-identity\n",
      "  Downloading azure_identity-1.19.0-py3-none-any.whl.metadata (80 kB)\n",
      "Collecting isodate>=0.6.1 (from azure-mgmt-storage)\n",
      "  Downloading isodate-0.7.2-py3-none-any.whl.metadata (11 kB)\n",
      "Collecting azure-common>=1.1 (from azure-mgmt-storage)\n",
      "  Downloading azure_common-1.1.28-py2.py3-none-any.whl.metadata (5.0 kB)\n",
      "Collecting azure-mgmt-core>=1.3.2 (from azure-mgmt-storage)\n",
      "  Downloading azure_mgmt_core-1.5.0-py3-none-any.whl.metadata (4.3 kB)\n",
      "Requirement already satisfied: typing-extensions>=4.6.0 in ./.venv/lib/python3.11/site-packages (from azure-mgmt-resource) (4.12.2)\n",
      "Collecting azure-core>=1.31.0 (from azure-identity)\n",
      "  Downloading azure_core-1.32.0-py3-none-any.whl.metadata (39 kB)\n",
      "Collecting cryptography>=2.5 (from azure-identity)\n",
      "  Downloading cryptography-43.0.3-cp39-abi3-manylinux_2_28_x86_64.whl.metadata (5.4 kB)\n",
      "Collecting msal>=1.30.0 (from azure-identity)\n",
      "  Downloading msal-1.31.1-py3-none-any.whl.metadata (11 kB)\n",
      "Collecting msal-extensions>=1.2.0 (from azure-identity)\n",
      "  Downloading msal_extensions-1.2.0-py3-none-any.whl.metadata (7.6 kB)\n",
      "Collecting requests>=2.21.0 (from azure-core>=1.31.0->azure-identity)\n",
      "  Downloading requests-2.32.3-py3-none-any.whl.metadata (4.6 kB)\n",
      "Requirement already satisfied: six>=1.11.0 in ./.venv/lib/python3.11/site-packages (from azure-core>=1.31.0->azure-identity) (1.16.0)\n",
      "Collecting cffi>=1.12 (from cryptography>=2.5->azure-identity)\n",
      "  Downloading cffi-1.17.1-cp311-cp311-manylinux_2_17_x86_64.manylinux2014_x86_64.whl.metadata (1.5 kB)\n",
      "Collecting PyJWT<3,>=1.0.0 (from PyJWT[crypto]<3,>=1.0.0->msal>=1.30.0->azure-identity)\n",
      "  Downloading PyJWT-2.10.0-py3-none-any.whl.metadata (4.0 kB)\n",
      "Collecting portalocker<3,>=1.4 (from msal-extensions>=1.2.0->azure-identity)\n",
      "  Downloading portalocker-2.10.1-py3-none-any.whl.metadata (8.5 kB)\n",
      "Collecting pycparser (from cffi>=1.12->cryptography>=2.5->azure-identity)\n",
      "  Downloading pycparser-2.22-py3-none-any.whl.metadata (943 bytes)\n",
      "Collecting charset-normalizer<4,>=2 (from requests>=2.21.0->azure-core>=1.31.0->azure-identity)\n",
      "  Downloading charset_normalizer-3.4.0-cp311-cp311-manylinux_2_17_x86_64.manylinux2014_x86_64.whl.metadata (34 kB)\n",
      "Collecting idna<4,>=2.5 (from requests>=2.21.0->azure-core>=1.31.0->azure-identity)\n",
      "  Downloading idna-3.10-py3-none-any.whl.metadata (10 kB)\n",
      "Collecting urllib3<3,>=1.21.1 (from requests>=2.21.0->azure-core>=1.31.0->azure-identity)\n",
      "  Downloading urllib3-2.2.3-py3-none-any.whl.metadata (6.5 kB)\n",
      "Collecting certifi>=2017.4.17 (from requests>=2.21.0->azure-core>=1.31.0->azure-identity)\n",
      "  Downloading certifi-2024.8.30-py3-none-any.whl.metadata (2.2 kB)\n",
      "Downloading azure_mgmt_storage-21.2.1-py3-none-any.whl (3.2 MB)\n",
      "\u001b[2K   \u001b[38;2;114;156;31m━━━━━━━━━━━━━━━━━━━━━━━━━━━━━━━━━━━━━━━━\u001b[0m \u001b[32m3.2/3.2 MB\u001b[0m \u001b[31m7.4 MB/s\u001b[0m eta \u001b[36m0:00:00\u001b[0mm eta \u001b[36m0:00:01\u001b[0m0:01\u001b[0m\n",
      "\u001b[?25hDownloading azure_mgmt_resource-23.2.0-py3-none-any.whl (2.7 MB)\n",
      "\u001b[2K   \u001b[38;2;114;156;31m━━━━━━━━━━━━━━━━━━━━━━━━━━━━━━━━━━━━━━━━\u001b[0m \u001b[32m2.7/2.7 MB\u001b[0m \u001b[31m9.2 MB/s\u001b[0m eta \u001b[36m0:00:00\u001b[0m MB/s\u001b[0m eta \u001b[36m0:00:01\u001b[0m\n",
      "\u001b[?25hDownloading azure_identity-1.19.0-py3-none-any.whl (187 kB)\n",
      "Downloading azure_common-1.1.28-py2.py3-none-any.whl (14 kB)\n",
      "Downloading azure_core-1.32.0-py3-none-any.whl (198 kB)\n",
      "Downloading azure_mgmt_core-1.5.0-py3-none-any.whl (30 kB)\n",
      "Downloading cryptography-43.0.3-cp39-abi3-manylinux_2_28_x86_64.whl (4.0 MB)\n",
      "\u001b[2K   \u001b[38;2;114;156;31m━━━━━━━━━━━━━━━━━━━━━━━━━━━━━━━━━━━━━━━━\u001b[0m \u001b[32m4.0/4.0 MB\u001b[0m \u001b[31m11.3 MB/s\u001b[0m eta \u001b[36m0:00:00\u001b[0m31m11.9 MB/s\u001b[0m eta \u001b[36m0:00:01\u001b[0m\n",
      "\u001b[?25hDownloading isodate-0.7.2-py3-none-any.whl (22 kB)\n",
      "Downloading msal-1.31.1-py3-none-any.whl (113 kB)\n",
      "Downloading msal_extensions-1.2.0-py3-none-any.whl (19 kB)\n",
      "Downloading cffi-1.17.1-cp311-cp311-manylinux_2_17_x86_64.manylinux2014_x86_64.whl (467 kB)\n",
      "Downloading portalocker-2.10.1-py3-none-any.whl (18 kB)\n",
      "Downloading PyJWT-2.10.0-py3-none-any.whl (23 kB)\n",
      "Downloading requests-2.32.3-py3-none-any.whl (64 kB)\n",
      "Downloading certifi-2024.8.30-py3-none-any.whl (167 kB)\n",
      "Downloading charset_normalizer-3.4.0-cp311-cp311-manylinux_2_17_x86_64.manylinux2014_x86_64.whl (142 kB)\n",
      "Downloading idna-3.10-py3-none-any.whl (70 kB)\n",
      "Downloading urllib3-2.2.3-py3-none-any.whl (126 kB)\n",
      "Downloading pycparser-2.22-py3-none-any.whl (117 kB)\n",
      "Installing collected packages: azure-common, urllib3, PyJWT, pycparser, portalocker, isodate, idna, charset-normalizer, certifi, requests, cffi, cryptography, azure-core, azure-mgmt-core, msal, azure-mgmt-storage, azure-mgmt-resource, msal-extensions, azure-identity\n",
      "Successfully installed PyJWT-2.10.0 azure-common-1.1.28 azure-core-1.32.0 azure-identity-1.19.0 azure-mgmt-core-1.5.0 azure-mgmt-resource-23.2.0 azure-mgmt-storage-21.2.1 certifi-2024.8.30 cffi-1.17.1 charset-normalizer-3.4.0 cryptography-43.0.3 idna-3.10 isodate-0.7.2 msal-1.31.1 msal-extensions-1.2.0 portalocker-2.10.1 pycparser-2.22 requests-2.32.3 urllib3-2.2.3\n"
     ]
    }
   ],
   "source": [
    "!pip install azure-mgmt-storage azure-mgmt-resource azure-identity"
   ]
  },
  {
   "cell_type": "code",
   "execution_count": 2,
   "metadata": {},
   "outputs": [],
   "source": [
    "from azure.identity import DefaultAzureCredential\n",
    "from azure.mgmt.resource import ResourceManagementClient\n",
    "from azure.mgmt.storage import StorageManagementClient\n",
    "from azure.mgmt.storage.models import Sku, SkuName, Kind"
   ]
  },
  {
   "cell_type": "markdown",
   "metadata": {},
   "source": [
    "Setting configuration variables"
   ]
  },
  {
   "cell_type": "code",
   "execution_count": null,
   "metadata": {},
   "outputs": [],
   "source": [
    "import json\n",
    "\n",
    "\n",
    "# loading config JSON file\n",
    "with open(\"config.json\", \"r\") as config_file:\n",
    "    config = json.load(config_file)\n",
    "\n",
    "# picking variable\n",
    "SUBSCRIPTION_ID = config[\"SUBSCRIPTION_ID\"]\n",
    "RESOURCE_GROUP_NAME = config[\"RESOURCE_GROUP_NAME\"]\n",
    "LOCATION = config[\"LOCATION\"]\n",
    "STORAGE_ACCOUNT_NAME = config[\"STORAGE_ACCOUNT_NAME\"]"
   ]
  },
  {
   "cell_type": "markdown",
   "metadata": {},
   "source": [
    "Authentication "
   ]
  },
  {
   "cell_type": "code",
   "execution_count": 6,
   "metadata": {},
   "outputs": [],
   "source": [
    "credentials = DefaultAzureCredential()"
   ]
  },
  {
   "cell_type": "markdown",
   "metadata": {},
   "source": [
    "Clients for Resource and storage"
   ]
  },
  {
   "cell_type": "code",
   "execution_count": 7,
   "metadata": {},
   "outputs": [],
   "source": [
    "resource_client = ResourceManagementClient(credentials, SUBSCRIPTION_ID)\n",
    "storage_client = StorageManagementClient(credentials, SUBSCRIPTION_ID)"
   ]
  },
  {
   "cell_type": "markdown",
   "metadata": {},
   "source": [
    "Creating one resource group"
   ]
  },
  {
   "cell_type": "code",
   "execution_count": 8,
   "metadata": {},
   "outputs": [
    {
     "data": {
      "text/plain": [
       "<azure.mgmt.resource.resources.v2022_09_01.models._models_py3.ResourceGroup at 0x7ec740f945d0>"
      ]
     },
     "execution_count": 8,
     "metadata": {},
     "output_type": "execute_result"
    }
   ],
   "source": [
    "resource_client.resource_groups.create_or_update(\n",
    "    RESOURCE_GROUP_NAME,\n",
    "    {\"location\": LOCATION}\n",
    ")"
   ]
  },
  {
   "cell_type": "markdown",
   "metadata": {},
   "source": [
    "Creating one storage account"
   ]
  },
  {
   "cell_type": "code",
   "execution_count": null,
   "metadata": {},
   "outputs": [],
   "source": [
    "'''\n",
    "Explaining: \n",
    "Location defined by the LOCATION variable.\n",
    "Local redundancy standard (STANDARD_LRS).\n",
    "Modern account type (STORAGE_V2).\n",
    "Security enabled for HTTPS only.\n",
    "\n",
    "'''\n",
    "storage_account = storage_client.storage_accounts.begin_create(\n",
    "    RESOURCE_GROUP_NAME,\n",
    "    STORAGE_ACCOUNT_NAME,\n",
    "    {\n",
    "        \"location\": LOCATION,\n",
    "        \"sku\": Sku(name=SkuName.STANDARD_LRS),\n",
    "        \"kind\": Kind.STORAGE_V2, #Storage account type\n",
    "        \"enable_https_traffic_only\": True,  # HTTPS only\n",
    "    },\n",
    ").result()"
   ]
  },
  {
   "cell_type": "code",
   "execution_count": 11,
   "metadata": {},
   "outputs": [
    {
     "name": "stdout",
     "output_type": "stream",
     "text": [
      "Storage Account 'sanitainplace2' succesfully created!\n",
      "Localização: westeurope\n",
      "Tipo de SKU: Standard_LRS\n"
     ]
    }
   ],
   "source": [
    "print(f\"Storage Account '{STORAGE_ACCOUNT_NAME}' succesfully created!\")\n",
    "print(f\"Localização: {storage_account.location}\")\n",
    "print(f\"Tipo de SKU: {storage_account.sku.name}\")"
   ]
  },
  {
   "cell_type": "markdown",
   "metadata": {},
   "source": [
    "Tips:\n",
    "\n",
    "To view all options together:\n",
    "\n",
    "1. Regions: az account list-locations\n",
    "2. SKUs: az storage account list-skus\n",
    "   \n",
    "   *SKU (Stock Keeping Unit) is used to represent the configuration or plan of a resource, including aspects such as redundancy, performance, and price. In the case of Storage Accounts, the SKU specifies the type of redundancy because different redundancy options are tied to different pricing models and technical configurations.*\n",
    "3. Account types: az storage account list\n",
    "\n"
   ]
  },
  {
   "cell_type": "markdown",
   "metadata": {},
   "source": []
  }
 ],
 "metadata": {
  "kernelspec": {
   "display_name": ".venv",
   "language": "python",
   "name": "python3"
  },
  "language_info": {
   "codemirror_mode": {
    "name": "ipython",
    "version": 3
   },
   "file_extension": ".py",
   "mimetype": "text/x-python",
   "name": "python",
   "nbconvert_exporter": "python",
   "pygments_lexer": "ipython3",
   "version": "3.11.6"
  }
 },
 "nbformat": 4,
 "nbformat_minor": 2
}
